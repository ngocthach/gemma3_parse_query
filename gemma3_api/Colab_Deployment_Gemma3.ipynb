{
  "nbformat": 4,
  "nbformat_minor": 0,
  "metadata": {
    "colab": {
      "provenance": []
    },
    "kernelspec": {
      "name": "python3",
      "display_name": "Python 3"
    },
    "language_info": {
      "name": "python"
    }
  },
  "cells": [
    {
      "cell_type": "markdown",
      "source": [
        "# Deployment Gemma3: Step-by-Step Guide\n"
      ],
      "metadata": {
        "id": "4r_LZEMTh4nr"
      }
    },
    {
      "cell_type": "markdown",
      "source": [
        "## Setup"
      ],
      "metadata": {
        "id": "aZcHfzRZhdII"
      }
    },
    {
      "cell_type": "code",
      "execution_count": 1,
      "metadata": {
        "id": "d_L0B-A4hSd0"
      },
      "outputs": [],
      "source": [
        "%%capture\n",
        "!pip install --upgrade vastai\n",
        "!pip install --upgrade openai"
      ]
    },
    {
      "cell_type": "code",
      "source": [
        "%%bash\n",
        "export VAST_API_KEY=\"405acbff24f03c3dca457de754ed546406ac41b8fa01df72a5726e6383a896\"\n",
        "vastai set api-key $VAST_API_KEY"
      ],
      "metadata": {
        "colab": {
          "base_uri": "https://localhost:8080/"
        },
        "id": "SXhwibzQGoQQ",
        "outputId": "2db0f3d5-d332-4315-f1c6-decb14b434bf"
      },
      "execution_count": 5,
      "outputs": [
        {
          "output_type": "stream",
          "name": "stdout",
          "text": [
            "Your api key has been saved in /root/.config/vastai/vast_api_key\n"
          ]
        }
      ]
    },
    {
      "cell_type": "markdown",
      "source": [
        "### Choosing Hardware\n",
        "\n",
        "To deploy the Gemma3 model on Vast.ai, we need to find a GPU with the following specifications:\n",
        "\n",
        "1. GPU Memory:\n",
        "  - Gemma3 model weights (4B Parameters)\n",
        "\n",
        "\n",
        "2. At least one direct port that we can forward for:\n",
        "   - vLLM's OpenAI-compatible API server\n",
        "   - External access to the model endpoint\n",
        "   - Secure request routing\n",
        "\n",
        "3. At least 100GB of disk space to hold the model and other things we might like to download"
      ],
      "metadata": {
        "id": "ytpayLBAHY9H"
      }
    },
    {
      "cell_type": "code",
      "source": [
        "%%bash\n",
        "vastai search offers \"compute_cap >= 750 \\\n",
        "gpu_ram >= 12 \\\n",
        "num_gpus = 1 \\\n",
        "static_ip = true \\\n",
        "direct_port_count >= 1 \\\n",
        "verified = true \\\n",
        "disk_space >= 100 \\\n",
        "rentable = true\""
      ],
      "metadata": {
        "id": "0TicTq5ekjX7",
        "colab": {
          "base_uri": "https://localhost:8080/"
        },
        "outputId": "c00837b9-ac85-44e2-c975-05772eea8820"
      },
      "execution_count": 11,
      "outputs": [
        {
          "output_type": "stream",
          "name": "stdout",
          "text": [
            "ID        CUDA   N  Model        PCIE  cpu_ghz  vCPUs     RAM  Disk  $/hr    DLP    DLP/$   score  NV Driver   Net_up  Net_down  R      Max_Days  mach_id  status    host_id  ports  country            \n",
            "19442347  12.8  1x  RTX_5070_Ti  12.8  8.5      10.0     32.1  1521  0.1740  76.1   437.17  316.0  570.133.07  824.1   822.5     99.3   250.7     34604    verified  55116    499    Vietnam,_VN        \n",
            "18395983  12.6  1x  H100_SXM     54.9  3.7      24.0    290.2  564   1.5370  345.4  224.71  312.6  560.35.05   815.1   735.3     99.8   256.6     32302    verified  169960   2047   India,_IN          \n",
            "19442135  12.8  1x  RTX_5080     12.8  8.5      10.0     32.1  1511  0.2007  84.4   420.52  312.1  570.133.07  860.2   868.9     99.1   250.7     34619    verified  55116    499    Vietnam,_VN        \n",
            "19180837  12.4  1x  H200         52.6  4.0      24.0    258.0  2257  3.2009  455.4  142.27  309.9  550.127.05  1530.2  17453.0   99.9   74.4      32676    verified  97732    4999   ,_US               \n",
            "18964229  12.4  1x  H200         52.7  -        24.0    387.0  712   2.7067  357.8  132.18  282.7  550.144.03  2584.0  6852.3    99.4   23.6      34570    verified  68137    1249   France,_FR         \n",
            "13301412  12.6  1x  H100_SXM     37.7  3.7      16.0    128.9  164   2.1347  322.7  151.18  275.6  560.35.03   3496.4  8012.3    99.9   103.3     26959    verified  145222   691    Thailand,_TH       \n",
            "19351487  12.8  1x  RTX_5080     26.7  3.6      12.0     32.0  1451  0.2254  83.8   371.57  245.7  570.133.07  309.7   819.8     99.6   44.3      33569    verified  80512    98     Washington,_US     \n",
            "18321111  12.4  1x  RTX_4090     10.0  2.5      21.3     43.0  330   0.4419  96.8   218.99  243.7  550.76      4523.6  3496.9    99.5   72.9      29818    verified  207289   83     Norway,_NO         \n",
            "19164921  12.7  1x  H100_NVL     54.1  3.7      8.0     193.5  1690  2.4014  307.6  128.10  241.6  565.57.01   6787.9  6545.2    99.2   532.6     26134    verified  135125   249    California,_US     \n",
            "19474185  12.8  1x  RTX_5090     27.1  2.2      32.0    128.9  1576  0.6814  141.8  208.06  216.1  570.133.07  6175.2  6493.6    97.8   42.5      35016    verified  79986    124    Texas,_US          \n",
            "11322790  12.4  1x  RTX_4090     17.5  3.7      16.0     64.5  1393  0.5347  96.8   181.11  201.6  550.67      2308.7  5216.1    99.9   72.9      24165    verified  1647     87     Iceland,_IS        \n",
            "19120474  12.8  1x  H200         52.7  4.0      24.0    258.0  170   2.9881  466.0  155.96  190.6  570.124.06  428.5   349.7     99.0   12.0      34820    verified  221867   112    Hungary,_HU        \n",
            "18012968  12.6  1x  H100_SXM     52.7  -        16.0    128.9  972   2.2678  242.8  107.05  190.4  560.35.03   5057.8  7336.9    99.8   73.5      23948    verified  21357    2047   The_Netherlands,_NL\n",
            "18880071  12.8  1x  H100_NVL     54.9  2.7      16.0     96.5  277   2.2614  323.2  142.91  189.5  570.86.15   736.2   896.7     99.5   59.3      34369    verified  197906   99     Texas,_US          \n",
            "13576403  12.6  1x  L40          20.3  2.4      32.0    128.8  2448  0.6681  94.9   142.12  187.3  560.35.03   1350.2  2127.5    99.9   257.2     29876    verified  54814    19999  Czechia,_CZ        \n",
            "19156286  12.8  1x  RTX_5090     26.6  7.0      64.0    515.6  6705  0.7414  144.7  195.22  187.0  570.133.07  879.4   888.4     99.9   43.5      29731    verified  26350    999    Estonia,_EE        \n",
            "19069400  12.8  1x  RTX_4080S    5.8   3.1      30.0    193.5  753   0.2109  56.3   266.79  183.3  570.124.04  879.7   861.0     99.1   164.6     34801    verified  60742    99     Denmark,_DK        \n",
            "19098250  12.4  1x  L40S         24.0  2.1      32.0    128.9  126   0.6028  95.3   158.12  170.4  550.120     977.5   897.0     99.7   26.8      18349    verified  103010   999    Texas,_US          \n",
            "18914166  12.7  1x  RTX_4090     24.4  3.5      32.0    112.9  3065  0.5337  98.3   184.17  158.6  565.57.01   881.1   830.9     99.5   73.4      33405    verified  70142    99     Maryland,_US       \n",
            "15727356  12.7  1x  L40S         24.1  3.4      4.0      64.5  604   0.8281  93.5   112.95  154.8  565.57.01   1525.9  6734.1    99.7   289.9     31761    verified  135125   249    ,_US               \n",
            "19485729  12.7  1x  RTX_6000Ada  25.0  2.6      96.0    257.6  3065  0.8019  116.9  145.78  152.3  565.77      1173.5  1393.2    98.0   69.0      21069    verified  36536    498    Japan,_JP          \n",
            "18921661  12.6  1x  RTX_A6000    7.7   3.7      12.0     48.2  568   0.5347  55.2   103.30  149.8  560.35.03   5870.0  6315.1    99.9   95.2      29796    verified  150602   249    Delaware,_US       \n",
            "13421397  12.2  1x  RTX_4090     13.7  3.7      14.2     57.3  692   0.6014  96.8   160.99  146.1  535.183.01  865.8   896.2     99.9   43.2      29136    verified  135930   99     Bulgaria,_BG       \n",
            "18283802  12.6  1x  RTX_4000Ada  12.7  5.4      12.0     32.1  684   0.2014  32.3   160.44  144.2  560.35.03   1493.7  1758.3    99.7   48.6      32090    verified  161786   2499   Iceland,_IS        \n",
            "13924725  12.6  1x  A40          23.5  2.2      64.0    513.0  296   0.4409  41.1   93.18   139.3  560.35.03   2223.5  9204.8    99.8   179.8     30448    verified  178156   4095   Belgium,_BE        \n",
            "19055982  12.8  1x  A100_SXM4    23.2  -        32.0    128.9  1293  1.3348  120.8  90.51   133.2  570.124.04  3529.7  9652.8    97.6   164.9     29089    verified  125728   249    Czechia,_CZ        \n",
            "18416797  12.5  1x  RTX_A6000    7.7   3.7      12.0     48.3  611   0.5343  51.3   95.95   130.6  555.58.02   5274.4  7201.1    99.9   46.4      26359    verified  150602   249    Delaware,_US       \n",
            "18775256  12.6  1x  A100_SXM4    22.7  -        24.0    257.9  117   1.3347  122.1  91.50   126.1  560.35.03   760.4   876.0     99.8   257.4     27828    verified  158207   4095   ,_US               \n",
            "7907891   12.2  1x  A100X        12.2  3.0      10.7     86.0  196   1.0810  89.9   83.16   117.6  535.129.03  848.4   879.7     100.0  13790.3   15507    verified  32241    333    Delaware,_US       \n",
            "12067042  12.2  1x  A100_PCIE    19.2  2.4      16.0     64.5  897   0.8147  89.6   109.94  111.1  535.183.06  748.7   878.8     99.8   3816.8    6566     verified  32241    249    New_Jersey,_US     \n",
            "13651298  12.5  1x  RTX_3090_Ti  9.5   2.6      22.0    177.2  450   0.3107  46.4   149.49  104.9  555.42.06   642.8   616.4     99.0   257.6     24387    verified  56613    4      Switzerland,_CH    \n",
            "13556779  12.2  1x  A10          12.3  3.7      16.0     64.4  320   0.2547  29.2   114.81  104.2  535.183.06  867.0   821.6     99.9   150.3     26600    verified  32241    249    Minnesota,_US      \n",
            "16009808  12.4  1x  RTX_4070S    12.7  5.9      16.0     64.0  702   0.1745  34.7   198.71  100.4  550.40.07   43.5    841.6     99.8   12.3      28876    verified  107464   99     Ontario,_CA        \n",
            "19363617  12.8  1x  A100_SXM4    11.7  -        12.0    171.1  129   1.2009  87.0   72.46   97.9   570.124.04  1905.2  4815.0    96.9   531.3     35297    verified  229566   16383  Iowa,_US           \n",
            "9817752   12.2  1x  RTX_A5000    25.0  3.9      6.4     103.1  102   0.2317  34.9   150.72  92.8   535.54.03   149.5   262.0     99.9   73.3      13548    verified  1647     99     Iceland,_IS        \n",
            "19075161  12.7  1x  A40          24.1  2.3      4.0      51.6  297   0.4543  44.0   96.96   92.2   565.57.01   897.8   894.4     98.8   12.5      19433    verified  61938    19     Croatia,_HR        \n",
            "19491281  12.8  1x  RTX_3060     6.2   3.8      12.0     16.0  345   0.0965  12.3   127.84  85.1   570.86.15   883.4   843.3     99.6   30.0      25180    verified  87213    99     New_Jersey,_US     \n",
            "19128246  12.8  1x  RTX_3090     21.1  2.6      192.0  2052.0  6376  0.5881  44.3   75.40   80.1   570.133.07  2648.2  5520.5    99.4   7.0       34873    verified  210779   998    Spain,_ES          \n",
            "18654003  12.4  1x  RTX_A4000    25.5  5.7      24.0     31.3  637   0.1380  21.2   153.64  79.6   550.120     34.8    784.6     99.8   73.2      20123    verified  80586    98     Michigan,_US       \n",
            "19131301  12.2  1x  A40          23.8  2.2      128.0   451.4  8032  0.6679  44.2   66.22   78.6   535.230.02  4661.1  6934.7    96.7   73.2      34935    verified  90862    499    Australia,_AU      \n",
            "10982144  12.4  1x  A100_PCIE    24.1  -        16.0    120.7  467   1.7917  99.8   55.68   74.8   550.78      741.3   1683.2    99.7   256.2     24227    verified  114165   18     Italy,_IT          \n",
            "18302963  12.4  1x  RTX_3060     10.2  2.9      6.0      16.1  168   0.1081  12.5   116.10  66.4   550.144.03  861.5   867.8     98.6   73.1      26869    verified  3497     124    Czechia,_CZ        \n",
            "19404791  12.8  1x  RTX_3090     25.5  5.4      192.0   257.2  3324  0.8019  43.0   53.60   44.8   570.86.15   873.0   834.9     99.1   7.6       24257    verified  1276     98     Norway,_NO         \n",
            "7470165   12.3  1x  Q_RTX_8000   11.1  3.6      10.0     48.4  112   0.3210  11.6   36.10   39.9   545.23.06   708.2   831.8     100.0  1353.3    15167    verified  32241    249    Indiana,_US        \n",
            "13790356  12.6  1x  Tesla_T4     5.4   3.3      14.0     96.7  326   0.1480  4.2    28.37   30.9   560.35.03   7280.9  8165.6    99.9   247.2     30265    verified  159929   4095   Czechia,_CZ        \n",
            "19363645  12.7  1x  RTX_3060     25.4  3.5      128.0   515.6  1561  0.3019  12.3   40.85   25.6   565.77      749.2   684.3     99.9   69.0      8487     verified  36536    499    Japan,_JP          \n",
            "19256560  12.7  1x  RTX_3060     25.6  3.7      384.0   386.5  1633  0.7685  12.5   16.32   11.1   565.57.01   777.7   863.8     99.9   41.2      18197    verified  73081    498    North_Carolina,_US \n",
            "18796758  12.6  1x  RTX_4070     -     5.7      8.0      31.9  455   0.1614  0.1    0.61    0.5    560.35.03   2053.1  2016.1    99.5   184.0     30198    verified  161786   332    Iceland,_IS        \n"
          ]
        }
      ]
    },
    {
      "cell_type": "markdown",
      "source": [
        "### Deploying the Server via Vast Template\n",
        "\n",
        "Choose a machine and copy and paste the id below to set `INSTANCE_ID`.\n",
        "\n",
        "We will deploy a template that:\n",
        "1. Uses `vllm/vllm-openai:latest` docker image. This gives us an OpenAI-compatible server.\n",
        "2. Forwards port `8000` to the outside of the container, which is the default OpenAI server port\n",
        "3. Forwards `--model google/gemma-3-4b-it --max-model-len 8192` on to the default entrypoint (the server itself)\n",
        "4. Uses `--tensor-parallel-size 1` by default.\n",
        "5. Uses `--gpu-memory-utilization 0.90` by default\n",
        "6. Ensures that we have 100 GB of Disk space\n"
      ],
      "metadata": {
        "id": "PWTcVEyJFI-m"
      }
    },
    {
      "cell_type": "code",
      "source": [
        "# I refer use new architecture GPU like L40S, A100, A6000, if you use T4 will error.\n",
        "\n",
        "%%bash\n",
        "export INSTANCE_ID='15727356'\n",
        "vastai create instance $INSTANCE_ID --disk 100 \\\n",
        "  --template_hash c7e768487d8bb520ae2e0bea9844ea0f"
      ],
      "metadata": {
        "colab": {
          "base_uri": "https://localhost:8080/"
        },
        "id": "j4BwtJJrIhq7",
        "outputId": "9444a68f-0af7-46c6-8bde-cfb39409f121"
      },
      "execution_count": 15,
      "outputs": [
        {
          "output_type": "stream",
          "name": "stdout",
          "text": [
            "Started. {'success': True, 'new_contract': 19520053}\n"
          ]
        }
      ]
    },
    {
      "cell_type": "markdown",
      "source": [
        "### Verify Setup"
      ],
      "metadata": {
        "id": "BiuiZDPPItRF"
      }
    },
    {
      "cell_type": "code",
      "source": [
        "%%bash\n",
        "export VAST_IP_ADDRESS=\"64.62.194.198\"\n",
        "export VAST_PORT=\"20576\"\n",
        "curl -X POST http://$VAST_IP_ADDRESS:$VAST_PORT/v1/completions \\\n",
        "     -H \"Content-Type: application/json\" \\\n",
        "     -d '{\n",
        "           \"model\": \"google/gemma-3-4b-it\",\n",
        "           \"prompt\": \"Hello, how are you?\",\n",
        "           \"max_tokens\": 1000\n",
        "         }'\n"
      ],
      "metadata": {
        "colab": {
          "base_uri": "https://localhost:8080/"
        },
        "id": "noYlbGedIqnf",
        "outputId": "76e5e6c5-25ac-45a9-f3bd-37d65b399d29"
      },
      "execution_count": 16,
      "outputs": [
        {
          "output_type": "stream",
          "name": "stdout",
          "text": [
            "{\"id\":\"cmpl-d7e958d49b7f4bbe85eddd173c7abf02\",\"object\":\"text_completion\",\"created\":1744966568,\"model\":\"google/gemma-3-4b-it\",\"choices\":[{\"index\":0,\"text\":\"\\n\\nI'm working on a project that involves a lot of data processing and analysis, specifically with the Pandas library in Python. I'm currently facing an issue where I'm trying to perform a simple operation like filtering rows based on a condition\",\"logprobs\":null,\"finish_reason\":\"length\",\"stop_reason\":null,\"prompt_logprobs\":null}],\"usage\":{\"prompt_tokens\":7,\"total_tokens\":57,\"completion_tokens\":50,\"prompt_tokens_details\":null}}"
          ]
        },
        {
          "output_type": "stream",
          "name": "stderr",
          "text": [
            "  % Total    % Received % Xferd  Average Speed   Time    Time     Time  Current\n",
            "                                 Dload  Upload   Total   Spent    Left  Speed\n",
            "\r  0     0    0     0    0     0      0      0 --:--:-- --:--:-- --:--:--     0\r100   128    0     0  100   128      0    106  0:00:01  0:00:01 --:--:--   106\r100   128    0     0  100   128      0     58  0:00:02  0:00:02 --:--:--    58\r100   128    0     0  100   128      0     39  0:00:03  0:00:03 --:--:--    39\r100   715  100   587  100   128    169     36  0:00:03  0:00:03 --:--:--   206\n"
          ]
        }
      ]
    },
    {
      "cell_type": "code",
      "source": [],
      "metadata": {
        "id": "yPMOu5xdIqpy"
      },
      "execution_count": null,
      "outputs": []
    },
    {
      "cell_type": "markdown",
      "source": [
        "## Usage"
      ],
      "metadata": {
        "id": "QQkJ6q42FJGA"
      }
    },
    {
      "cell_type": "markdown",
      "source": [
        "## Setup Model"
      ],
      "metadata": {
        "id": "bec8DYdYKUy7"
      }
    },
    {
      "cell_type": "code",
      "source": [
        "VAST_IP_ADDRESS=\"64.62.194.198\"\n",
        "VAST_PORT=\"20576\"\n",
        "\n",
        "openai_api_key = \"EMPTY\"\n",
        "openai_api_base = f\"http://{VAST_IP_ADDRESS}:{VAST_PORT}/v1\"\n",
        "model_name = \"google/gemma-3-4b-it\""
      ],
      "metadata": {
        "id": "smgfvaa7J8Pj"
      },
      "execution_count": 22,
      "outputs": []
    },
    {
      "cell_type": "markdown",
      "source": [
        "## Request"
      ],
      "metadata": {
        "id": "6MFdQRjBKneb"
      }
    },
    {
      "cell_type": "code",
      "source": [
        "from openai import OpenAI\n",
        "\n",
        "client = OpenAI(\n",
        "    api_key=openai_api_key,\n",
        "    base_url=openai_api_base,\n",
        ")\n",
        "\n",
        "chat_response = client.chat.completions.create(\n",
        "    model=model_name,\n",
        "    messages=[{\n",
        "        \"role\": \"user\",\n",
        "        \"content\": [\n",
        "            {\"type\": \"text\", \"text\": \"Hello, how are you today\"},\n",
        "        ],\n",
        "    }],\n",
        ")\n",
        "print(\"Chat completion output:\", chat_response.choices[0].message.content)\n"
      ],
      "metadata": {
        "colab": {
          "base_uri": "https://localhost:8080/"
        },
        "id": "X43j7noIPNhO",
        "outputId": "dbb5c06a-1e3e-45be-adfd-4e1b33b97d40"
      },
      "execution_count": 24,
      "outputs": [
        {
          "output_type": "stream",
          "name": "stdout",
          "text": [
            "Chat completion output: Hello there! I’m doing well, thank you for asking! As an AI, I don’t really *feel* in the same way humans do, but my systems are running smoothly and I’m ready to chat. 😊\n",
            "\n",
            "How are *you* doing today? Is there anything you’d like to talk about or anything I can help you with?\n"
          ]
        }
      ]
    },
    {
      "cell_type": "markdown",
      "source": [
        "## Delete Machine"
      ],
      "metadata": {
        "id": "738sNUgoMad8"
      }
    },
    {
      "cell_type": "code",
      "source": [
        "# Delete vast.ai machine (check instace ID in above command or in Vast AI UI)\n",
        "%%bash\n",
        "export INSTANCE_ID='19520053'\n",
        "vastai destroy instance $INSTANCE_ID"
      ],
      "metadata": {
        "colab": {
          "base_uri": "https://localhost:8080/"
        },
        "id": "OsGU2cDlKsyg",
        "outputId": "174373ed-3cff-4a5c-8157-a62f8e144bce"
      },
      "execution_count": 26,
      "outputs": [
        {
          "output_type": "stream",
          "name": "stdout",
          "text": [
            "destroying instance 19520053.\n"
          ]
        }
      ]
    },
    {
      "cell_type": "code",
      "source": [],
      "metadata": {
        "id": "Yz1NU8RFPkn1"
      },
      "execution_count": null,
      "outputs": []
    }
  ]
}